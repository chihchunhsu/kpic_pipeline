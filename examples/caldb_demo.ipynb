{
 "cells": [
  {
   "cell_type": "code",
   "execution_count": null,
   "source": [
    "from kpicdrp.caldb import det_caldb, trace_caldb\n",
    "from kpicdrp.data import DetectorFrame"
   ],
   "outputs": [],
   "metadata": {}
  },
  {
   "cell_type": "code",
   "execution_count": null,
   "source": [
    "# View detector calibration database\n",
    "det_caldb.db"
   ],
   "outputs": [],
   "metadata": {}
  },
  {
   "cell_type": "code",
   "execution_count": null,
   "source": [
    "# View trace calibration database\n",
    "trace_caldb.db"
   ],
   "outputs": [],
   "metadata": {}
  },
  {
   "cell_type": "markdown",
   "source": [
    "Testing to see the get calib function of the databases"
   ],
   "metadata": {}
  },
  {
   "cell_type": "code",
   "execution_count": null,
   "source": [
    "# A random detector frame that I want to get calibration files for\n",
    "det_frame = DetectorFrame(filepath=\"/scr3/jruffio/data/kpic/20210424_backgrounds/raw/nspec210424_0288.fits\")"
   ],
   "outputs": [],
   "metadata": {}
  },
  {
   "cell_type": "code",
   "execution_count": null,
   "source": [
    "# Get best calibration files to use\n",
    "bkgd = det_caldb.get_calib(det_frame, type=\"Background\")\n",
    "bpm = det_caldb.get_calib(det_frame, type=\"BadPixelMap\")\n",
    "trace = trace_caldb.get_calib(det_frame)"
   ],
   "outputs": [],
   "metadata": {}
  },
  {
   "cell_type": "code",
   "execution_count": null,
   "source": [
    "# Checking if det_caldb.get_calib works\n",
    "print(det_frame.header[\"TRUITIME\"]==bkgd.header[\"TRUITIME\"]==bpm.header[\"TRUITIME\"]) # integration time\n",
    "print(det_frame.header[\"COADDS\"]==bkgd.header[\"COADDS\"]==bpm.header[\"COADDS\"]) # coadds\n",
    "print(bkgd.header[\"DRPNFILE\"]>1 and bpm.header[\"DRPNFILE\"]>1) # num of files used\n",
    "print(\"Detector Frame time: \" + str(det_frame.time_obs))\n",
    "print(\"Selected Background time: \" + str(bkgd.time_obs))\n",
    "print(\"Selected Bad Pixel Map time: \" + str(bpm.time_obs))"
   ],
   "outputs": [],
   "metadata": {}
  },
  {
   "cell_type": "code",
   "execution_count": null,
   "source": [
    "# Checking if trace_caldb.get_calib works\n",
    "print(det_frame.header[\"DISPPOS\"] == trace.header[\"DISPPOS\"]) # x-disperser position\n",
    "print(det_frame.header[\"ECHLPOS\"] == trace.header[\"ECHLPOS\"]) # echelle position\n",
    "print(\"Detector Frame time: \" + str(det_frame.time_obs))\n",
    "print(\"Selected Trace time: \" + str(trace.time_obs))\n"
   ],
   "outputs": [],
   "metadata": {}
  },
  {
   "cell_type": "markdown",
   "source": [
    "Testing the remove entry, create entry, and save functions"
   ],
   "metadata": {}
  },
  {
   "cell_type": "code",
   "execution_count": null,
   "source": [
    "# Remove entry\n",
    "from kpicdrp.data import BadPixelMap, Background\n",
    "bkgd1 = Background(filepath=\"/scr3/kpic/KPIC_Campaign/calibs/20191107/bkgd_bpmap/20191107_background_med_nobars_tint59.0112_coadds1.fits\")\n",
    "badpix1 = BadPixelMap(filepath=\"/scr3/kpic/KPIC_Campaign/calibs/20191107/bkgd_bpmap/20191107_persistent_badpix_nobars_tint59.0112_coadds1.fits\")\n",
    "det_caldb.remove_entry(bkgd1)\n",
    "det_caldb.save()\n",
    "det_caldb.db.tail()"
   ],
   "outputs": [],
   "metadata": {}
  },
  {
   "cell_type": "code",
   "execution_count": null,
   "source": [
    "# Create/update entry\n",
    "det_caldb.create_entry(badpix1)\n",
    "det_caldb.create_entry(bkgd1)\n",
    "det_caldb.save()\n",
    "det_caldb.db.tail()"
   ],
   "outputs": [],
   "metadata": {}
  }
 ],
 "metadata": {
  "orig_nbformat": 4,
  "language_info": {
   "name": "python",
   "version": "3.8.10",
   "mimetype": "text/x-python",
   "codemirror_mode": {
    "name": "ipython",
    "version": 3
   },
   "pygments_lexer": "ipython3",
   "nbconvert_exporter": "python",
   "file_extension": ".py"
  },
  "kernelspec": {
   "name": "python3",
   "display_name": "Python 3.8.10 64-bit ('database': conda)"
  },
  "interpreter": {
   "hash": "8d7a2475e61204fd89aeabf86536134e8bb5ebecd640cd1b8cee9b2311a63bc1"
  }
 },
 "nbformat": 4,
 "nbformat_minor": 2
}